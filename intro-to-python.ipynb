{
 "cells": [
  {
   "cell_type": "code",
   "execution_count": 6,
   "metadata": {
    "colab": {},
    "colab_type": "code",
    "id": "4BSAs9O6kBHL"
   },
   "outputs": [],
   "source": [
    "from IPython.display import Image\n",
    "from IPython.core.display import HTML "
   ]
  },
  {
   "cell_type": "markdown",
   "metadata": {
    "colab_type": "text",
    "id": "DWbp70nPcVY0"
   },
   "source": [
    "# **Introduction to Data Analysis with Python**"
   ]
  },
  {
   "cell_type": "markdown",
   "metadata": {},
   "source": [
    "# BEFORE WE BEGIN\n",
    "### Please Complete This Brief Pre-Workshop Survey: https://forms.gle/jvt7rJ2AFwJRtBJo6\n"
   ]
  },
  {
   "cell_type": "markdown",
   "metadata": {},
   "source": [
    "## Agenda\n",
    "* Introductions\n",
    "* What is Python\n",
    "* Python Fundamentals\n",
    "* Storing Multiple Values\n",
    "* Loops\n",
    "* Functions\n",
    "* Conditionals\n",
    "* Libraries\n",
    "* Plotting\n",
    "* Resources"
   ]
  },
  {
   "cell_type": "markdown",
   "metadata": {},
   "source": [
    "# Mahathi Ryali\n",
    "<img src=\"images/mahathi.jpg\" width=\"400\">\n",
    "\n",
    "\n",
    "\n",
    "Quick Facts:\n",
    "\n",
    "    🐻 Year: Junior \n",
    "    🎒 Major: Computer Science and Data Science\n",
    "    ⭐ Hobbies: Dance, Violin, Baking\n",
    "    📊 Joined the Discovery Consulting team in Spring 2023  "
   ]
  },
  {
   "cell_type": "markdown",
   "metadata": {
    "colab_type": "text",
    "id": "qiVIlE3ecVZE"
   },
   "source": [
    "# What is Python?"
   ]
  },
  {
   "cell_type": "markdown",
   "metadata": {
    "colab_type": "text",
    "id": "QH8gd9GqxOIx"
   },
   "source": [
    "![Python Logo](images/python-logo.png)\n",
    "\n",
    "\n",
    "> Python is a high-level, general-purpose programming language that emphasizes code readability."
   ]
  },
  {
   "cell_type": "markdown",
   "metadata": {},
   "source": [
    "# IOKN2K\n",
    "It's OK Not To Know\n",
    "\n",
    "https://dlab.berkeley.edu/blog/what-iokn2k"
   ]
  },
  {
   "cell_type": "markdown",
   "metadata": {
    "colab_type": "text",
    "id": "7hJ9E3ynvZ4o"
   },
   "source": [
    "\n",
    "\n",
    "---\n",
    "\n"
   ]
  },
  {
   "cell_type": "markdown",
   "metadata": {
    "colab_type": "text",
    "id": "CRclVvBWcVZV"
   },
   "source": [
    "# Python Fundamentals\n",
    "> In this section we will be talking about one functionality of Python (a calculator), what variables are and how we can use them, what are the types of data in Python, and some built-in functions that Python has.\n",
    "\n",
    "### **Python as a Calculator**"
   ]
  },
  {
   "cell_type": "code",
   "execution_count": 7,
   "metadata": {
    "colab": {
     "base_uri": "https://localhost:8080/",
     "height": 36
    },
    "colab_type": "code",
    "id": "XhrwDOzgcVZX",
    "outputId": "f0915339-9f08-4676-a599-4ccad6670835"
   },
   "outputs": [
    {
     "data": {
      "text/plain": [
       "5"
      ]
     },
     "execution_count": 7,
     "metadata": {},
     "output_type": "execute_result"
    }
   ],
   "source": [
    "2 + 3"
   ]
  },
  {
   "cell_type": "markdown",
   "metadata": {
    "colab_type": "text",
    "id": "v0u7Znl1bWvt"
   },
   "source": [
    "As we can see below, Python follows order of operations while evaluating expressions"
   ]
  },
  {
   "cell_type": "code",
   "execution_count": 8,
   "metadata": {
    "colab": {
     "base_uri": "https://localhost:8080/",
     "height": 36
    },
    "colab_type": "code",
    "id": "jVYLFD3ZbQ6p",
    "outputId": "d0ef01e8-d54e-415a-8264-feb8818253ed"
   },
   "outputs": [
    {
     "data": {
      "text/plain": [
       "23"
      ]
     },
     "execution_count": 8,
     "metadata": {},
     "output_type": "execute_result"
    }
   ],
   "source": [
    "3 + 5 * 4"
   ]
  },
  {
   "cell_type": "code",
   "execution_count": 9,
   "metadata": {
    "colab": {
     "base_uri": "https://localhost:8080/",
     "height": 36
    },
    "colab_type": "code",
    "id": "APo37dn6bT1Z",
    "outputId": "70da5deb-e1ed-4485-db97-2d978a129c2b"
   },
   "outputs": [
    {
     "data": {
      "text/plain": [
       "2.0"
      ]
     },
     "execution_count": 9,
     "metadata": {},
     "output_type": "execute_result"
    }
   ],
   "source": [
    "(3**2) - 4 * 6 / 2 + 5"
   ]
  },
  {
   "cell_type": "code",
   "execution_count": 10,
   "metadata": {},
   "outputs": [
    {
     "data": {
      "text/plain": [
       "0.8333333333333334"
      ]
     },
     "execution_count": 10,
     "metadata": {},
     "output_type": "execute_result"
    }
   ],
   "source": [
    "5 / 6"
   ]
  },
  {
   "cell_type": "code",
   "execution_count": 11,
   "metadata": {},
   "outputs": [
    {
     "data": {
      "text/plain": [
       "0"
      ]
     },
     "execution_count": 11,
     "metadata": {},
     "output_type": "execute_result"
    }
   ],
   "source": [
    "4 % 2"
   ]
  },
  {
   "cell_type": "code",
   "execution_count": 12,
   "metadata": {},
   "outputs": [
    {
     "data": {
      "text/plain": [
       "1"
      ]
     },
     "execution_count": 12,
     "metadata": {},
     "output_type": "execute_result"
    }
   ],
   "source": [
    "7 % 3"
   ]
  },
  {
   "cell_type": "markdown",
   "metadata": {
    "colab_type": "text",
    "id": "VT-Zx2zhbnhP"
   },
   "source": [
    "### **Data Types**\n",
    "> There are 4 main data types in Python: Integers, Floats, Strings, and Booleans"
   ]
  },
  {
   "cell_type": "code",
   "execution_count": 13,
   "metadata": {},
   "outputs": [
    {
     "data": {
      "text/plain": [
       "32"
      ]
     },
     "execution_count": 13,
     "metadata": {},
     "output_type": "execute_result"
    }
   ],
   "source": [
    "32 #integer"
   ]
  },
  {
   "cell_type": "code",
   "execution_count": 14,
   "metadata": {},
   "outputs": [
    {
     "data": {
      "text/plain": [
       "32.0"
      ]
     },
     "execution_count": 14,
     "metadata": {},
     "output_type": "execute_result"
    }
   ],
   "source": [
    "32.0 #float"
   ]
  },
  {
   "cell_type": "code",
   "execution_count": 15,
   "metadata": {},
   "outputs": [
    {
     "data": {
      "text/plain": [
       "2.7"
      ]
     },
     "execution_count": 15,
     "metadata": {},
     "output_type": "execute_result"
    }
   ],
   "source": [
    "2.7 #float"
   ]
  },
  {
   "cell_type": "code",
   "execution_count": 16,
   "metadata": {},
   "outputs": [
    {
     "data": {
      "text/plain": [
       "'hello'"
      ]
     },
     "execution_count": 16,
     "metadata": {},
     "output_type": "execute_result"
    }
   ],
   "source": [
    "'hello' #string"
   ]
  },
  {
   "cell_type": "code",
   "execution_count": 17,
   "metadata": {},
   "outputs": [
    {
     "data": {
      "text/plain": [
       "'123'"
      ]
     },
     "execution_count": 17,
     "metadata": {},
     "output_type": "execute_result"
    }
   ],
   "source": [
    "\"123\" #string"
   ]
  },
  {
   "cell_type": "code",
   "execution_count": 18,
   "metadata": {},
   "outputs": [
    {
     "data": {
      "text/plain": [
       "True"
      ]
     },
     "execution_count": 18,
     "metadata": {},
     "output_type": "execute_result"
    }
   ],
   "source": [
    "True #boolean"
   ]
  },
  {
   "cell_type": "code",
   "execution_count": 19,
   "metadata": {},
   "outputs": [
    {
     "data": {
      "text/plain": [
       "False"
      ]
     },
     "execution_count": 19,
     "metadata": {},
     "output_type": "execute_result"
    }
   ],
   "source": [
    "False #boolean"
   ]
  },
  {
   "cell_type": "markdown",
   "metadata": {},
   "source": [
    "### **Variables**\n",
    "> Now that we some different data types in Python, what if we want to keep track of these values somehow?"
   ]
  },
  {
   "cell_type": "code",
   "execution_count": 20,
   "metadata": {},
   "outputs": [
    {
     "data": {
      "text/plain": [
       "5"
      ]
     },
     "execution_count": 20,
     "metadata": {},
     "output_type": "execute_result"
    }
   ],
   "source": [
    "sum_of_nums = 2 + 3\n",
    "sum_of_nums"
   ]
  },
  {
   "cell_type": "code",
   "execution_count": 21,
   "metadata": {},
   "outputs": [
    {
     "data": {
      "text/plain": [
       "20"
      ]
     },
     "execution_count": 21,
     "metadata": {},
     "output_type": "execute_result"
    }
   ],
   "source": [
    "sum_of_nums = 5 * 4\n",
    "sum_of_nums"
   ]
  },
  {
   "cell_type": "code",
   "execution_count": 22,
   "metadata": {},
   "outputs": [
    {
     "data": {
      "text/plain": [
       "40"
      ]
     },
     "execution_count": 22,
     "metadata": {},
     "output_type": "execute_result"
    }
   ],
   "source": [
    "workHours = 8\n",
    "workDays = 5\n",
    "workHoursPerWeek = workHours * workDays\n",
    "workHoursPerWeek"
   ]
  },
  {
   "cell_type": "markdown",
   "metadata": {
    "colab_type": "text",
    "id": "-kPDOc5GiuRq"
   },
   "source": [
    "**Note:** Assigning a value to one variable does not change values of other variables. \n",
    "\n",
    "For example, let's try to convert weight in kilograms to pounds:"
   ]
  },
  {
   "cell_type": "code",
   "execution_count": 23,
   "metadata": {
    "colab": {
     "base_uri": "https://localhost:8080/",
     "height": 36
    },
    "colab_type": "code",
    "id": "6AjAQnh1bl6k",
    "outputId": "555b4da1-2d7f-46be-f767-b28f1261f7d3"
   },
   "outputs": [
    {
     "data": {
      "text/plain": [
       "100"
      ]
     },
     "execution_count": 23,
     "metadata": {},
     "output_type": "execute_result"
    }
   ],
   "source": [
    "weight_kgs = 100\n",
    "#There are 2.2 kilograms in a pounds\n",
    "weight_lbs = 2.2 * weight_kgs\n",
    "weight_kgs"
   ]
  },
  {
   "cell_type": "code",
   "execution_count": 24,
   "metadata": {},
   "outputs": [
    {
     "data": {
      "text/plain": [
       "220.00000000000003"
      ]
     },
     "execution_count": 24,
     "metadata": {},
     "output_type": "execute_result"
    }
   ],
   "source": [
    "weight_lbs"
   ]
  },
  {
   "cell_type": "code",
   "execution_count": 32,
   "metadata": {},
   "outputs": [
    {
     "data": {
      "text/plain": [
       "220"
      ]
     },
     "execution_count": 32,
     "metadata": {},
     "output_type": "execute_result"
    }
   ],
   "source": [
    "int(weight_lbs)"
   ]
  },
  {
   "cell_type": "code",
   "execution_count": 25,
   "metadata": {},
   "outputs": [
    {
     "data": {
      "text/plain": [
       "'wow'"
      ]
     },
     "execution_count": 25,
     "metadata": {},
     "output_type": "execute_result"
    }
   ],
   "source": [
    "string_variable = 'wow'\n",
    "string_variable"
   ]
  },
  {
   "cell_type": "code",
   "execution_count": 26,
   "metadata": {},
   "outputs": [
    {
     "ename": "NameError",
     "evalue": "name 'string_Variable' is not defined",
     "output_type": "error",
     "traceback": [
      "\u001b[0;31m---------------------------------------------------------------------------\u001b[0m",
      "\u001b[0;31mNameError\u001b[0m                                 Traceback (most recent call last)",
      "Cell \u001b[0;32mIn[26], line 1\u001b[0m\n\u001b[0;32m----> 1\u001b[0m \u001b[43mstring_Variable\u001b[49m\n",
      "\u001b[0;31mNameError\u001b[0m: name 'string_Variable' is not defined"
     ]
    }
   ],
   "source": [
    "string_Variable"
   ]
  },
  {
   "cell_type": "markdown",
   "metadata": {
    "colab_type": "text",
    "id": "xX_hrmmtc_63"
   },
   "source": [
    "Keep in mind: \n",
    "* think of variables as buckets\n",
    "* how you name your variables is very important\n",
    "* variable names must start with a letter and can't have any operators \n",
    "\n"
   ]
  },
  {
   "cell_type": "markdown",
   "metadata": {
    "colab_type": "text",
    "id": "xU7hlMR7dx5n"
   },
   "source": [
    "### **Built-in Functions**\n",
    "> Built-in functions are functions that are already defined so they can be used without writing any extra code."
   ]
  },
  {
   "cell_type": "code",
   "execution_count": null,
   "metadata": {},
   "outputs": [],
   "source": [
    "print(123)"
   ]
  },
  {
   "cell_type": "code",
   "execution_count": null,
   "metadata": {},
   "outputs": [],
   "source": [
    "print(\"123\")\n",
    "print(string_variable)"
   ]
  },
  {
   "cell_type": "code",
   "execution_count": null,
   "metadata": {},
   "outputs": [],
   "source": [
    "print(\"You can\", \"combine sentences\")"
   ]
  },
  {
   "cell_type": "code",
   "execution_count": null,
   "metadata": {},
   "outputs": [],
   "source": [
    "print(\"This is \" + \"another way to add\")"
   ]
  },
  {
   "cell_type": "code",
   "execution_count": null,
   "metadata": {},
   "outputs": [],
   "source": [
    "print(\"Work hours per week:\", workHoursPerWeek)"
   ]
  },
  {
   "cell_type": "code",
   "execution_count": null,
   "metadata": {},
   "outputs": [],
   "source": [
    "type(string_variable)"
   ]
  },
  {
   "cell_type": "code",
   "execution_count": null,
   "metadata": {},
   "outputs": [],
   "source": [
    "type(123)"
   ]
  },
  {
   "cell_type": "code",
   "execution_count": null,
   "metadata": {},
   "outputs": [],
   "source": [
    "type(\"123\")"
   ]
  },
  {
   "cell_type": "code",
   "execution_count": null,
   "metadata": {},
   "outputs": [],
   "source": [
    "type(True)"
   ]
  },
  {
   "cell_type": "code",
   "execution_count": null,
   "metadata": {},
   "outputs": [],
   "source": [
    "type(2.7)"
   ]
  },
  {
   "cell_type": "code",
   "execution_count": null,
   "metadata": {},
   "outputs": [],
   "source": [
    "type(20 + 3)"
   ]
  },
  {
   "cell_type": "markdown",
   "metadata": {
    "colab_type": "text",
    "id": "QirezTYbkOQI"
   },
   "source": [
    "### **Exercise:** What data type is \"5 * 4\"? \n",
    "##### *(Hint: If you're unsure, the ```type(variable)``` function may be useful)*\n",
    "\n"
   ]
  },
  {
   "cell_type": "markdown",
   "metadata": {
    "colab_type": "text",
    "id": "kVCEL-JRlOgo"
   },
   "source": [
    "**ANSWER HERE**"
   ]
  },
  {
   "cell_type": "markdown",
   "metadata": {
    "colab_type": "text",
    "id": "Bw9TyLSdq-Ev"
   },
   "source": [
    "### **Exercise:**\n",
    "*   **Create a variable storing the current temperature at Cal in Fahrenheit**\n",
    "*   **Create a variable converting the current temp to the nearest degree Celsius**\n",
    "*   **Create a variable converting the current temp to the nearest degree Kelvin**\n",
    "*   **Print all the temperatures, with a short string describing what they represent in ONE line of code:**\n",
    "\n"
   ]
  },
  {
   "cell_type": "markdown",
   "metadata": {
    "colab_type": "text",
    "id": "Ad68VI2suzUF"
   },
   "source": [
    "*(Hint: F to C: 5/9 * (F-32))*\n",
    "\n",
    "*(Hint: C to K: Celsius + 273.15)*\n",
    "\n",
    "Note: Let's say the current temperature is 68 degrees F\n",
    "\n",
    "\n",
    "\n"
   ]
  },
  {
   "cell_type": "code",
   "execution_count": 1,
   "metadata": {
    "colab": {
     "base_uri": "https://localhost:8080/",
     "height": 92
    },
    "colab_type": "code",
    "id": "t8bfYKsltzju",
    "outputId": "6a3806ba-0ff3-4e5a-8fd9-69752008e8a8"
   },
   "outputs": [
    {
     "name": "stdout",
     "output_type": "stream",
     "text": [
      "Ellipsis\n"
     ]
    }
   ],
   "source": [
    "tempf = ...\n",
    "tempc = ...\n",
    "tempk = ...\n",
    "print(...)"
   ]
  },
  {
   "cell_type": "markdown",
   "metadata": {
    "colab_type": "text",
    "id": "7hJ9E3ynvZ4o"
   },
   "source": [
    "\n",
    "\n",
    "---\n",
    "\n"
   ]
  },
  {
   "cell_type": "markdown",
   "metadata": {},
   "source": [
    "# Storing Multiple Values\n",
    "> We can store multiple values together in one list."
   ]
  },
  {
   "cell_type": "code",
   "execution_count": null,
   "metadata": {},
   "outputs": [],
   "source": [
    "my_list = [1, 2, 3, 4]\n",
    "my_list"
   ]
  },
  {
   "cell_type": "code",
   "execution_count": null,
   "metadata": {},
   "outputs": [],
   "source": [
    "my_list.append(5)\n",
    "my_list"
   ]
  },
  {
   "cell_type": "code",
   "execution_count": null,
   "metadata": {},
   "outputs": [],
   "source": [
    "my_list.remove(1)\n",
    "my_list"
   ]
  },
  {
   "cell_type": "code",
   "execution_count": null,
   "metadata": {},
   "outputs": [],
   "source": [
    "my_list[0]"
   ]
  },
  {
   "cell_type": "code",
   "execution_count": null,
   "metadata": {},
   "outputs": [],
   "source": [
    "my_list[1:]"
   ]
  },
  {
   "cell_type": "code",
   "execution_count": null,
   "metadata": {},
   "outputs": [],
   "source": [
    "my_list[:2]"
   ]
  },
  {
   "cell_type": "code",
   "execution_count": null,
   "metadata": {},
   "outputs": [],
   "source": [
    "my_list.append(6)\n",
    "my_list[1:3]"
   ]
  },
  {
   "cell_type": "code",
   "execution_count": null,
   "metadata": {},
   "outputs": [],
   "source": [
    "my_list"
   ]
  },
  {
   "cell_type": "markdown",
   "metadata": {
    "colab_type": "text",
    "id": "7hJ9E3ynvZ4o"
   },
   "source": [
    "\n",
    "\n",
    "---\n",
    "\n"
   ]
  },
  {
   "cell_type": "markdown",
   "metadata": {
    "colab_type": "text",
    "id": "LIddUmPBcVZp"
   },
   "source": [
    "# Repeating Actions with Loops\n",
    "> Instead of writing the same lines of code over and over again, we can simplify our code with loops"
   ]
  },
  {
   "cell_type": "markdown",
   "metadata": {
    "colab_type": "text",
    "id": "ym-NlHMl-2ke"
   },
   "source": [
    "#### **QUESTION:** How can we do the same operations on different values? "
   ]
  },
  {
   "cell_type": "markdown",
   "metadata": {
    "colab_type": "text",
    "id": "zncu0fUFBrfx"
   },
   "source": [
    "Suppose we have the word \"lead\" and we want to print out each individual letter per line. We could write it out manually:"
   ]
  },
  {
   "cell_type": "code",
   "execution_count": null,
   "metadata": {},
   "outputs": [],
   "source": [
    "word = \"lead\"\n",
    "print(word[0])\n",
    "print(word[1])\n",
    "print(word[2])\n",
    "print(word[3])"
   ]
  },
  {
   "cell_type": "markdown",
   "metadata": {
    "colab_type": "text",
    "id": "CVJHqNlJDYh3"
   },
   "source": [
    "But this would be super cumbersome if we had to do this for longer words like \"Pseudopseudohypoparathyroidism\".\n",
    "\n",
    "This is where loops would be useful to have:"
   ]
  },
  {
   "cell_type": "markdown",
   "metadata": {},
   "source": [
    "```\n",
    "**For loop**\n",
    "for trackerName in variable: \n",
    "    //code \n",
    "```"
   ]
  },
  {
   "cell_type": "code",
   "execution_count": null,
   "metadata": {
    "colab": {
     "base_uri": "https://localhost:8080/",
     "height": 119
    },
    "colab_type": "code",
    "id": "tlj7UW5EBazs",
    "outputId": "d3bde22a-57af-4dba-d596-4a0620a6e239"
   },
   "outputs": [],
   "source": [
    "word = \"python\"\n",
    "for letter in word:\n",
    "    print(letter)"
   ]
  },
  {
   "cell_type": "code",
   "execution_count": null,
   "metadata": {
    "colab": {
     "base_uri": "https://localhost:8080/",
     "height": 34
    },
    "colab_type": "code",
    "id": "JI2LMPjDMrpP",
    "outputId": "724932cf-1210-445f-f9d3-1b0d3b3364c1"
   },
   "outputs": [],
   "source": [
    "word = \"workshop\"\n",
    "lengthOfWord = 0;\n",
    "for letter in word:\n",
    "    lengthOfWord = lengthOfWord + 1\n",
    "print(lengthOfWord)"
   ]
  },
  {
   "cell_type": "code",
   "execution_count": null,
   "metadata": {},
   "outputs": [],
   "source": [
    "some_list = [1, 2, 3]\n",
    "for num in some_list:\n",
    "    print(num)"
   ]
  },
  {
   "cell_type": "markdown",
   "metadata": {},
   "source": [
    "```\n",
    "while (booleanStatement is True): \n",
    "    //code \n",
    "    //update variable in booleanStatement\n",
    "```"
   ]
  },
  {
   "cell_type": "code",
   "execution_count": null,
   "metadata": {},
   "outputs": [],
   "source": [
    "count = 0\n",
    "while count < 5:\n",
    "    print(count)\n",
    "    count += 1 # count = count + 1"
   ]
  },
  {
   "cell_type": "markdown",
   "metadata": {
    "colab_type": "text",
    "id": "7hJ9E3ynvZ4o"
   },
   "source": [
    "\n",
    "\n",
    "---\n",
    "\n"
   ]
  },
  {
   "cell_type": "markdown",
   "metadata": {},
   "source": [
    "# Functions\n",
    "> Functions are sets of code that we can reuse to perform certain actions."
   ]
  },
  {
   "cell_type": "markdown",
   "metadata": {},
   "source": [
    "```\n",
    "def functionName(parameters*): \n",
    "    //code \n",
    "    return *value you want to return\n",
    "```"
   ]
  },
  {
   "cell_type": "code",
   "execution_count": null,
   "metadata": {},
   "outputs": [],
   "source": [
    "def returnVal():\n",
    "    return 5\n",
    "returnVal()"
   ]
  },
  {
   "cell_type": "code",
   "execution_count": null,
   "metadata": {},
   "outputs": [],
   "source": [
    "def addThree(num):\n",
    "    return num + 3\n",
    "addThree(5)"
   ]
  },
  {
   "cell_type": "markdown",
   "metadata": {},
   "source": [
    "# Breakout Rooms!"
   ]
  },
  {
   "cell_type": "markdown",
   "metadata": {},
   "source": [
    "### **Exercise:** \n",
    "#### Write a Python function to sum all the numbers in a list."
   ]
  },
  {
   "cell_type": "code",
   "execution_count": null,
   "metadata": {},
   "outputs": [],
   "source": [
    "def sumList(my_list):\n",
    "    total = ...\n",
    "    for ...\n",
    "        ...\n",
    "    return ...\n",
    "sumList([1, 2, 3])"
   ]
  },
  {
   "cell_type": "markdown",
   "metadata": {},
   "source": [
    "# Come Back!"
   ]
  },
  {
   "cell_type": "markdown",
   "metadata": {
    "colab_type": "text",
    "id": "7hJ9E3ynvZ4o"
   },
   "source": [
    "\n",
    "\n",
    "---\n",
    "\n"
   ]
  },
  {
   "cell_type": "markdown",
   "metadata": {
    "colab_type": "text",
    "id": "YtJ50hBDcVZ1"
   },
   "source": [
    "# Making Choices with Conditionals\n",
    "> Conditionals use boolean values to determine what set of code to run"
   ]
  },
  {
   "cell_type": "markdown",
   "metadata": {
    "colab_type": "text",
    "id": "ovASF0Pc8eMN"
   },
   "source": [
    "When we start working with a lot of data, we might want to start treating different groups of data different from others. Let's see how in the next cell."
   ]
  },
  {
   "cell_type": "code",
   "execution_count": null,
   "metadata": {
    "colab": {
     "base_uri": "https://localhost:8080/",
     "height": 36
    },
    "colab_type": "code",
    "id": "mCS-NSK5cVZ3",
    "outputId": "479e8fde-d637-41ba-cfdf-f1886d109de9"
   },
   "outputs": [],
   "source": [
    "number = 15\n",
    "if number > 0:\n",
    "    print(number, \"is positive!\")"
   ]
  },
  {
   "cell_type": "markdown",
   "metadata": {
    "colab_type": "text",
    "id": "NY5ei-x8-MIp"
   },
   "source": [
    "This is helpful for positive numbers, but I also want to account for negative numbers.\n"
   ]
  },
  {
   "cell_type": "code",
   "execution_count": null,
   "metadata": {
    "colab": {
     "base_uri": "https://localhost:8080/",
     "height": 36
    },
    "colab_type": "code",
    "id": "7f9ECyd1-KRn",
    "outputId": "9d78abf8-fe95-4dbe-b94a-eb8fc49ffcea"
   },
   "outputs": [],
   "source": [
    "number = -15 \n",
    "if number > 0:\n",
    "    print(number, \"is positive!\")\n",
    "else:\n",
    "    print(number, \"is negative!\")"
   ]
  },
  {
   "cell_type": "markdown",
   "metadata": {
    "colab_type": "text",
    "id": "uzf4npcn-9iQ"
   },
   "source": [
    "But wait, what if I input zero, I don't think that's negative or positive."
   ]
  },
  {
   "cell_type": "code",
   "execution_count": null,
   "metadata": {
    "colab": {
     "base_uri": "https://localhost:8080/",
     "height": 36
    },
    "colab_type": "code",
    "id": "L-ySwMT9-818",
    "outputId": "00dca97b-a9e8-4b96-eefa-99eb2559968e"
   },
   "outputs": [],
   "source": [
    "number = 0\n",
    "if number > 0:\n",
    "    print(number, \"is positive!\")\n",
    "elif number < 0:\n",
    "    print(number, \"is negative\")\n",
    "else:\n",
    "    print(number, \"is zero!\")"
   ]
  },
  {
   "cell_type": "markdown",
   "metadata": {},
   "source": [
    "General Structure of `if statement`:  \n",
    "\n",
    "    if True:\n",
    "        # Run This Code\n",
    "    elif True:\n",
    "        # Run this code\n",
    "    elif ... (You can have indefinite number of elif statements\n",
    "    else:\n",
    "        # Everything else was False, run this code."
   ]
  },
  {
   "cell_type": "markdown",
   "metadata": {
    "colab_type": "text",
    "id": "8ql7K2cWDIL5"
   },
   "source": [
    "**Note:** All numbers (except 0) and strings on their own are evaluted as True values."
   ]
  },
  {
   "cell_type": "code",
   "execution_count": null,
   "metadata": {
    "colab": {
     "base_uri": "https://localhost:8080/",
     "height": 36
    },
    "colab_type": "code",
    "id": "6ENyh-t09myK",
    "outputId": "87c8e6dc-f1ab-47b4-86bb-65654c15ddcf"
   },
   "outputs": [],
   "source": [
    "if 1:\n",
    "    print(True)"
   ]
  },
  {
   "cell_type": "code",
   "execution_count": null,
   "metadata": {
    "colab": {
     "base_uri": "https://localhost:8080/",
     "height": 36
    },
    "colab_type": "code",
    "id": "n9l8CIBtEZrE",
    "outputId": "12562acc-7202-4df3-b786-12faddb873b9"
   },
   "outputs": [],
   "source": [
    "if 0:\n",
    "    print(True)\n",
    "else:\n",
    "    print(False)"
   ]
  },
  {
   "cell_type": "code",
   "execution_count": null,
   "metadata": {
    "colab": {
     "base_uri": "https://localhost:8080/",
     "height": 36
    },
    "colab_type": "code",
    "id": "xCirg6QREdHA",
    "outputId": "40d60c76-08e8-4772-bcf2-e45317d39788"
   },
   "outputs": [],
   "source": [
    "if \"Anything\":\n",
    "    print(True)"
   ]
  },
  {
   "cell_type": "markdown",
   "metadata": {
    "colab_type": "text",
    "id": "tcRIZR2F9wL0"
   },
   "source": [
    "In the first section, we mentioned **boolean values**.\n",
    "\n",
    "Boolean values are **True** or **False**.\n",
    "\n",
    "These are most often calculated using relational operators. Some examples of relational operators are:\n",
    "\n",
    "\n",
    "```\n",
    "# Check if two values are equal (==)\n",
    "5 == 1\n",
    "False\n",
    "\n",
    "#Check if two values are NOT equal (!=)\n",
    "5 != 1\n",
    "True\n",
    "\n",
    "# Greater than or equal to (>=)\n",
    "5 >= 1\n",
    "True\n",
    "\n",
    "# Less than or equal to (<=)\n",
    "5 <= 1\n",
    "False\n",
    "\n",
    "# Less than (<)\n",
    "5 < 5\n",
    "False\n",
    "\n",
    "# Greater than (>)\n",
    "5 > 1\n",
    "True\n",
    "\n",
    "#Check if a value contains another value (in)\n",
    "'UC' in 'UC Berkeley'\n",
    "True\n",
    "```\n",
    "\n"
   ]
  },
  {
   "cell_type": "markdown",
   "metadata": {
    "colab_type": "text",
    "id": "6vzSGv8uA3tn"
   },
   "source": [
    "I want split up the classes I've taken into 3 lists of different departments: Data Science Classes, CS Classes, and Other Classes"
   ]
  },
  {
   "cell_type": "code",
   "execution_count": null,
   "metadata": {
    "colab": {
     "base_uri": "https://localhost:8080/",
     "height": 74
    },
    "colab_type": "code",
    "id": "NSXV7ZPgA2xr",
    "outputId": "dfaf5553-ad67-4958-a09e-5f69931c36c9"
   },
   "outputs": [],
   "source": [
    "courses_ive_taken = [\"CS 61A\", \"Data 8\", \"Anthro 2AC\", \"CS 61B\", \"English R1A\", \"Data 100\", \"CS 188\"]\n",
    "cs_courses = []\n",
    "ds_courses = []\n",
    "other_courses = []\n",
    "\n",
    "for course in courses_ive_taken:\n",
    "    if \"Data\" in course:\n",
    "        ds_courses.append(course)\n",
    "    elif \"CS\" in course:\n",
    "        cs_courses.append(course)\n",
    "    else:\n",
    "        other_courses.append(course)\n",
    "        \n",
    "#can use \\n to add a new line between elements\n",
    "print(\"Data Science Classes:\", ds_courses, \"\\nCS Classes:\", cs_courses, \"\\nOther Classes:\", other_courses)"
   ]
  },
  {
   "cell_type": "markdown",
   "metadata": {},
   "source": [
    "# Breakout Rooms!"
   ]
  },
  {
   "cell_type": "markdown",
   "metadata": {
    "colab_type": "text",
    "id": "5usanZHrFKkg"
   },
   "source": [
    "### **Exercise:** \n",
    "#### Write a function that counts the number of numbers that are divisible by 2 or 3 in a list. \n",
    "\n",
    "**Hint:** Numbers that are divisible will have a modulo expression equal to zero."
   ]
  },
  {
   "cell_type": "code",
   "execution_count": null,
   "metadata": {
    "colab": {
     "base_uri": "https://localhost:8080/",
     "height": 36
    },
    "colab_type": "code",
    "id": "wAcgMfqEEflF",
    "outputId": "cc5c5e40-4c0a-42af-d154-b442b8d04e68"
   },
   "outputs": [],
   "source": [
    "def divisible(num_list):\n",
    "    \n",
    "    divisible_by_2 = ...\n",
    "    divisible_by_3 = ...\n",
    "    both_divisible = ...\n",
    "    not_divisible = ...\n",
    "    \n",
    "    for num in num_list :\n",
    "        if ... and ...:\n",
    "            ...\n",
    "        elif ...:\n",
    "            ...\n",
    "        elif ...:\n",
    "            ...\n",
    "        else:\n",
    "            ...\n",
    "    return divisible_by_2, divisible_by_3, not_divisible, both_divisible\n",
    "\n",
    "divisible([23, 7, 4, 18])"
   ]
  },
  {
   "cell_type": "markdown",
   "metadata": {},
   "source": [
    "# Come Back!"
   ]
  },
  {
   "cell_type": "markdown",
   "metadata": {
    "colab_type": "text",
    "id": "7hJ9E3ynvZ4o"
   },
   "source": [
    "\n",
    "\n",
    "---\n",
    "\n"
   ]
  },
  {
   "cell_type": "markdown",
   "metadata": {},
   "source": [
    "# Libraries\n",
    "> Python has a lot more built-in functions that are stored in libraries. By importing these libraries, we can access all the functions in that library. To use functions from a library, you can't call the function like you can with print() or type, you have to specify the library name, followed by a period, and then the name of the function you want to use. <br><br>\n",
    "**libraryName.functionName(*parameters)**"
   ]
  },
  {
   "cell_type": "code",
   "execution_count": 27,
   "metadata": {},
   "outputs": [],
   "source": [
    "import matplotlib.pyplot as plt"
   ]
  },
  {
   "cell_type": "markdown",
   "metadata": {
    "colab_type": "text",
    "id": "7hJ9E3ynvZ4o"
   },
   "source": [
    "\n",
    "\n",
    "---\n",
    "\n"
   ]
  },
  {
   "cell_type": "markdown",
   "metadata": {},
   "source": [
    "# Plotting"
   ]
  },
  {
   "cell_type": "markdown",
   "metadata": {
    "colab_type": "text",
    "id": "j2_hnqwrwnlH"
   },
   "source": [
    "> In data analysis, it's important to be able to visualize your data to make it easier to identify patterns, trends and outliers in large data sets. One way to visualize data is by plotting it. We'll see how to use matplotlib to make plotting easier :)"
   ]
  },
  {
   "cell_type": "markdown",
   "metadata": {},
   "source": [
    "We're going to be using some functions from matplotlib found here: https://matplotlib.org/stable/tutorials/introductory/pyplot.html"
   ]
  },
  {
   "cell_type": "code",
   "execution_count": null,
   "metadata": {},
   "outputs": [],
   "source": [
    "plt.plot([1, 2, 3, 4])\n",
    "plt.ylabel('some numbers')\n",
    "plt.show()"
   ]
  },
  {
   "cell_type": "markdown",
   "metadata": {},
   "source": [
    "If you provide a single list or array to plot, matplotlib assumes it is a sequence of y values, and automatically generates the x values for you. Since python ranges start with 0, the default x vector has the same length as y but starts with 0; therefore, the x data are [0, 1, 2, 3]."
   ]
  },
  {
   "cell_type": "code",
   "execution_count": null,
   "metadata": {},
   "outputs": [],
   "source": [
    "plt.plot([1, 2, 3, 4], [1, 4, 9, 16])\n",
    "plt.xlabel(\"x values\")\n",
    "plt.ylabel(\"y values\")\n",
    "plt.title(\"Plot\")\n",
    "plt.show()"
   ]
  },
  {
   "cell_type": "code",
   "execution_count": 30,
   "metadata": {},
   "outputs": [
    {
     "data": {
      "image/png": "[encoded data removed]",
      "text/plain": [
       "<Figure size 640x480 with 1 Axes>"
      ]
     },
     "metadata": {},
     "output_type": "display_data"
    }
   ],
   "source": [
    "plt.plot([0, 3, 6, 9], [20, 24, 25, 28.5], 'g^')\n",
    "plt.xlabel(\"Age (months)\")\n",
    "plt.ylabel(\"Height (cm)\")\n",
    "plt.title(\"Height vs. Age\")\n",
    "plt.axis([0, 10, 15, 30])\n",
    "plt.show()"
   ]
  },
  {
   "cell_type": "markdown",
   "metadata": {},
   "source": [
    "### **Exercise:** \n",
    "#### Write a function to plot a line given x values, y values, axis labels, and a title. \n",
    "\n",
    "**Note:** Feel free to change the color or style of the line :)"
   ]
  },
  {
   "cell_type": "markdown",
   "metadata": {},
   "source": [
    "# Breakout Rooms!"
   ]
  },
  {
   "cell_type": "code",
   "execution_count": 31,
   "metadata": {
    "colab": {},
    "colab_type": "code",
    "id": "BoDN2hRwwkRy"
   },
   "outputs": [
    {
     "data": {
      "image/png": "[encoded data removed]",
      "text/plain": [
       "<Figure size 640x480 with 1 Axes>"
      ]
     },
     "metadata": {},
     "output_type": "display_data"
    }
   ],
   "source": [
    "def visualize(x_vals, y_vals, xlabel, ylabel, title):\n",
    "    ...\n",
    "    ...\n",
    "    ...\n",
    "    ...\n",
    "    ...\n",
    "visualize([329.79, 332.14, 334.32, 335.94, 337], [2017, 2018, 2019, 2020, 2021], \"Population (millions)\", \"Year\", \"US Population, 2017-2021\")"
   ]
  },
  {
   "cell_type": "markdown",
   "metadata": {},
   "source": [
    "# Come Back!"
   ]
  },
  {
   "cell_type": "markdown",
   "metadata": {
    "colab_type": "text",
    "id": "LjlUvWO4DaXv"
   },
   "source": [
    "### **Additional Information**: Commenting"
   ]
  },
  {
   "cell_type": "markdown",
   "metadata": {
    "colab_type": "text",
    "id": "XIyEw_nzEuDY"
   },
   "source": [
    "Throughout this workshop we have seen a couple of examples of commenting within your code using the hash (#) symbol. Another convenient way of commenting your code that will be extremely useful if you are working on a group project is through docstrings"
   ]
  },
  {
   "cell_type": "code",
   "execution_count": 63,
   "metadata": {
    "colab": {},
    "colab_type": "code",
    "id": "hIBMKeQWDsOx"
   },
   "outputs": [],
   "source": [
    "#This Function converts temperatures inputted in Fahrenheit to Celsius\n",
    "#Parameters: temperature in Fahrenheit\n",
    "#Return Type: int\n",
    "def f_to_c(temp):\n",
    "    return (int)((temp - 32) * (5/9))"
   ]
  },
  {
   "cell_type": "code",
   "execution_count": 64,
   "metadata": {
    "colab": {
     "base_uri": "https://localhost:8080/",
     "height": 119
    },
    "colab_type": "code",
    "id": "jBWdtcy-FFsa",
    "outputId": "1173b75a-68e8-4032-c552-76fa455e256a"
   },
   "outputs": [
    {
     "name": "stdout",
     "output_type": "stream",
     "text": [
      "Help on function f_to_c in module __main__:\n",
      "\n",
      "f_to_c(temp)\n",
      "    Return a new array containing the original data\n",
      "    with its mean offset to match the desired value.\n",
      "\n"
     ]
    }
   ],
   "source": [
    "def f_to_c(temp):\n",
    "    \"\"\"Return a new array containing the original data\n",
    "       with its mean offset to match the desired value.\"\"\"\n",
    "    return (int) ((temp -32) * (5/9))\n",
    "help(f_to_c)"
   ]
  },
  {
   "cell_type": "markdown",
   "metadata": {},
   "source": [
    "# Thank You for Attending\n",
    "## PLEASE COMPLETE THIS POST-WORKSHOP SURVEY: https://forms.gle/ehqSxxtgYENsbUts7\n",
    "\n",
    "Feel free to reach out to us if you have any other questions."
   ]
  },
  {
   "cell_type": "markdown",
   "metadata": {},
   "source": [
    "# More Resources\n",
    "\n",
    "Thank you so much for attending this workshop. There is always more to learn so we have listed some helpful resources below as you continue your Data Learning Journey.\n",
    "\n",
    "1. Discovery Consultants - We help Undergrads and Graduate students with projects, research, and more! Come to our drop-in hours. https://data.berkeley.edu/ds-peer-consulting\n",
    "2. Stack Overflow & Google - https://stackoverflow.com/\n",
    "3. W3Schools - https://www.w3schools.com/python/\n",
    "4. Software Carpentry - https://swcarpentry.github.io/python-novice-inflammation/\n",
    "5. MathPlotLib - https://matplotlib.org/stable/tutorials/introductory/pyplot.html"
   ]
  }
 ],
 "metadata": {
  "colab": {
   "collapsed_sections": [
    "qiVIlE3ecVZE",
    "CRclVvBWcVZV",
    "LIddUmPBcVZp",
    "YtJ50hBDcVZ1",
    "qfHAiYsQcVZ-",
    "65oYc7PycVZf",
    "sEtWgqVccVaJ"
   ],
   "name": "Intro to Python.ipynb",
   "provenance": []
  },
  "kernelspec": {
   "display_name": "Python 3 (ipykernel)",
   "language": "python",
   "name": "python3"
  },
  "language_info": {
   "codemirror_mode": {
    "name": "ipython",
    "version": 3
   },
   "file_extension": ".py",
   "mimetype": "text/x-python",
   "name": "python",
   "nbconvert_exporter": "python",
   "pygments_lexer": "ipython3",
   "version": "3.9.15"
  }
 },
 "nbformat": 4,
 "nbformat_minor": 1
}
